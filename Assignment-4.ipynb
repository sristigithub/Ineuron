{
 "cells": [
  {
   "cell_type": "code",
   "execution_count": null,
   "metadata": {},
   "outputs": [],
   "source": [
    "#1.1 Write a Python Program(with class concepts) to find the area of the triangle using the below\n",
    "#formula.\n",
    "#area = (s*(s-a)*(s-b)*(s-c)) ** 0.5\n",
    "#Function to take the length of the sides of triangle from user should be defined in the parent\n",
    "#class and function to calculate the area should be defined in subclass."
   ]
  },
  {
   "cell_type": "markdown",
   "metadata": {},
   "source": [
    "# Q 1.1"
   ]
  },
  {
   "cell_type": "code",
   "execution_count": 11,
   "metadata": {},
   "outputs": [
    {
     "name": "stdout",
     "output_type": "stream",
     "text": [
      "enter s1 length in metres: 4\n",
      "enter s2 length in metres: 5\n",
      "enter s3 length in metres: 7\n",
      "Area of the triangle is :  9.797958971132712\n"
     ]
    }
   ],
   "source": [
    "class length():\n",
    "    def __init__(self,s1,s2,s3):\n",
    "        self.s1=float(input(\"enter s1 length in metres: \"))\n",
    "        self.s2=float(input(\"enter s2 length in metres: \"))\n",
    "        self.s3=float(input(\"enter s3 length in metres: \"))\n",
    "\n",
    "class triangle(length):\n",
    "    def __init__(self, s1, s2, s3):\n",
    "        length.__init__(self, s1, s2, s3)\n",
    "        \n",
    "    def area(self):\n",
    "        s = (self.s1+ self.s2+self.s3)/2\n",
    "        return ((s * (s-self.s1) * (s-self.s2) * (s-self.s3)))**0.5\n",
    "\n",
    "    \n",
    "my_variable = triangle(0,0,0)\n",
    "print(\"Area of the triangle is : \",my_variable.area())\n",
    "    "
   ]
  },
  {
   "cell_type": "markdown",
   "metadata": {},
   "source": [
    "# Q 1.2"
   ]
  },
  {
   "cell_type": "code",
   "execution_count": null,
   "metadata": {},
   "outputs": [],
   "source": [
    "# 1.2 Write a function filter_long_words() that takes a list of words and an integer n and returns\n",
    "#the list of words that are longer than n."
   ]
  },
  {
   "cell_type": "code",
   "execution_count": 7,
   "metadata": {},
   "outputs": [
    {
     "data": {
      "text/plain": [
       "['furniture', 'cupboard']"
      ]
     },
     "execution_count": 7,
     "metadata": {},
     "output_type": "execute_result"
    }
   ],
   "source": [
    " \n",
    "def filter_long_word(l,n):\n",
    "    l1=[]\n",
    "    for i in l:\n",
    "    #print(i)\n",
    "        if len(i)>n:\n",
    "            l1.append(i)\n",
    "    return l1\n",
    "            \n",
    "        \n",
    "        #print(l1)       \n",
    "        \n",
    "list=['chair','table','furniture','door','floor','cupboard','lamp']\n",
    "       \n",
    "filter_long_word(list,4)    \n",
    "    "
   ]
  },
  {
   "cell_type": "markdown",
   "metadata": {},
   "source": [
    "# Q 2.1"
   ]
  },
  {
   "cell_type": "code",
   "execution_count": 28,
   "metadata": {},
   "outputs": [],
   "source": [
    "#2.1 Write a Python program using function concept that maps list of words into a list of integers  representing the lengths of the corresponding words. \n",
    "#Hint: If a list [ ab,cde,erty] is passed on to the python function output should come as [2,3,4] Here 2,3 and 4 are the lengths of the words in the list. \n"
   ]
  },
  {
   "cell_type": "code",
   "execution_count": 8,
   "metadata": {},
   "outputs": [
    {
     "data": {
      "text/plain": [
       "[5, 5, 9, 4, 5, 8, 4]"
      ]
     },
     "execution_count": 8,
     "metadata": {},
     "output_type": "execute_result"
    }
   ],
   "source": [
    "def length(lst):\n",
    "    return list(map(lambda ele: len(ele), lst))\n",
    "\n",
    "test=['chair','table','furniture','door','floor','cupboard','lamp']\n",
    "length(test)"
   ]
  },
  {
   "cell_type": "markdown",
   "metadata": {},
   "source": [
    "# Q 2.2"
   ]
  },
  {
   "cell_type": "code",
   "execution_count": 19,
   "metadata": {},
   "outputs": [
    {
     "name": "stdout",
     "output_type": "stream",
     "text": [
      "Please enter only one character  :u\n",
      "True\n"
     ]
    }
   ],
   "source": [
    "#2.2 Write a Python function which takes a character (i.e. a string of length 1) and returns True if\n",
    "#it is a vowel, False otherwise.\n",
    "\n",
    "def vowel_filter(ch):\n",
    "    vo=['a','e','i','o','u']\n",
    "    if ch in vo:\n",
    "        return True\n",
    "    else:\n",
    "        return False\n",
    "\n",
    "char = input(\"Please enter only one character  :\")\n",
    "print(vowel_filter(char))   "
   ]
  }
 ],
 "metadata": {
  "kernelspec": {
   "display_name": "Python 3",
   "language": "python",
   "name": "python3"
  },
  "language_info": {
   "codemirror_mode": {
    "name": "ipython",
    "version": 3
   },
   "file_extension": ".py",
   "mimetype": "text/x-python",
   "name": "python",
   "nbconvert_exporter": "python",
   "pygments_lexer": "ipython3",
   "version": "3.7.3"
  }
 },
 "nbformat": 4,
 "nbformat_minor": 2
}
